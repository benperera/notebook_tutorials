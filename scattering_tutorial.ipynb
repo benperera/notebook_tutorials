{
 "cells": [
  {
   "cell_type": "markdown",
   "id": "d31d25e7",
   "metadata": {},
   "source": [
    "# Scattering Tutorial\n",
    "\n",
    "* In this tutorial, you will analyze a data set of pulsar J1913+11025 obtained through the PALFA survey. \n",
    "\n",
    "\n",
    "* First, we import the required libraries and packages.\n"
   ]
  },
  {
   "cell_type": "code",
   "execution_count": null,
   "id": "93011125",
   "metadata": {},
   "outputs": [],
   "source": [
    "%matplotlib notebook\n",
    "import psrchive\n",
    "import numpy as np\n",
    "from scipy.optimize import curve_fit\n",
    "import matplotlib.pyplot as plt\n",
    "from matplotlib import gridspec"
   ]
  },
  {
   "cell_type": "markdown",
   "id": "611e374d",
   "metadata": {},
   "source": [
    "* The path to the data set is `/nanograv/notebook/homes/jupyterhub-benetgeperera/tutorials/bands_all.F4.Tp`.\n",
    "\n",
    "* We can load and read in the data set using the PSRCHIVE package (http://psrchive.sourceforge.net). PSRCHIVE is a standard pulsar data analyzing package."
   ]
  },
  {
   "cell_type": "code",
   "execution_count": null,
   "id": "0c7e564c",
   "metadata": {},
   "outputs": [],
   "source": [
    "psr = 'J1913+11025'\n",
    "period = 0.92381106789333*1000.    #in ms\n",
    "\n",
    "fn = 'bands_all.F4.Tp'\n",
    "obs = psrchive.Archive_load(fn)\n",
    "obs.dedisperse()\n",
    "obs.pscrunch()\n",
    "obs.remove_baseline()\n",
    "data0 = obs.get_data()\n",
    "freq = obs.get_frequencies()\n",
    "nchan = data0.shape[2]\n",
    "nbins = data0.shape[3]\n",
    "if nchan > 1:\n",
    "    weights = obs.get_weights()\n",
    "    for ww in range(nbins):\n",
    "        data0[:,0,:,ww] *= weights\n",
    "data = data0[0,0,:,:]\n",
    "nbands = 3    #ignore the lowest-freq band due to low S/N    \n",
    "\n",
    "#print the shape of the data\n",
    "print('Shape of the data array:')\n",
    "data.shape"
   ]
  },
  {
   "cell_type": "markdown",
   "id": "ef20d363",
   "metadata": {},
   "source": [
    "\n",
    "* The data set has 4 frequency bands. Let's plot pulse profiles of all frequency bands!\n"
   ]
  },
  {
   "cell_type": "code",
   "execution_count": null,
   "id": "5624c294",
   "metadata": {
    "scrolled": false
   },
   "outputs": [],
   "source": [
    "#normalize the peak of profiles\n",
    "for i in range(nchan):\n",
    "    data[i,:] /= np.amax(data[i,:])\n",
    "\n",
    "#center the peak of the profile\n",
    "prof = np.mean(data, axis=0)\n",
    "shift = int(nbins/2. - np.argmax(prof))\n",
    "prof = np.roll(prof, shift)\n",
    "data = np.roll(data, shift, axis=1)\n",
    "\n",
    "xbins = np.arange(nbins)\n",
    "xmin = 0\n",
    "xmax = 1\n",
    "ymin = -0.2\n",
    "ymax = 1.2\n",
    "plt.figure(figsize=(5,6))\n",
    "\n",
    "for i in range(nbands):\n",
    "    plt.subplot(nbands,1,i+1)\n",
    "    if i < nbands-1:\n",
    "        plt.tick_params(direction='in',axis='both',length=3,top=True,right=True,labelbottom=False,labelsize='large')\n",
    "    else:\n",
    "        plt.tick_params(direction='in',axis='both',length=3,top=True,right=True,labelbottom=True,labelsize='large')\n",
    "        plt.xlabel('Pulse phase', fontsize='large')\n",
    "    plt.xlim(xmin,xmax)\n",
    "    plt.ylim(ymin, ymax)\n",
    "    plt.plot(xbins/nbins,data[i,:],color='gray',linewidth=.5)\n",
    "    plt.text(1.02*xmin+0.04,ymax*.75, r'$\\nu$ ='+str(int(np.round(freq[i])))+' MHz',fontsize='large')\n"
   ]
  },
  {
   "cell_type": "markdown",
   "id": "16a666e5",
   "metadata": {},
   "source": [
    "## Compute the scattering time ($\\tau$) and scattering spectral index ($\\alpha$). \n",
    "\n",
    "* We fit a Gaussian function convolve with a pulse-broadening function. We assume that the radio waves are scattered isotropically by a single thin scattering screen.\n",
    "\n",
    "\n",
    "* The pulse-broadening function is $\\exp({-1/\\tau})/\\tau$ and then $\\tau(\\nu) \\propto \\nu^{-\\alpha}$.\n",
    "\n",
    "\n",
    "* Let's fit a Gaussian convolved with a one-sided exponential function to the observed freq-band profiles.\n",
    "\n",
    "\n",
    "* Then obtain the scattering time $\\tau$ and scattering spectral index $\\alpha$.\n"
   ]
  },
  {
   "cell_type": "code",
   "execution_count": null,
   "id": "9afd05c5",
   "metadata": {},
   "outputs": [],
   "source": [
    "def gauss_exp_model_mod2(x,*pp):\n",
    "    tmp_prof = np.zeros((nbands,nbins))\n",
    "    for j in range(nbands):\n",
    "        gs = pp[j*3]*np.exp(-(np.arange(nbins)-pp[j*3+1])**2./(2.*pp[j*3+2]**2))\n",
    "        tau = pp[len(pp)-2]*((freq[j]/1000.0)**(-1.*pp[len(pp)-1]))\n",
    "        st = np.exp(-np.arange(nbins)/tau)/tau\n",
    "        prf_st = np.convolve(gs,st,mode='full')\n",
    "        tmp_prof[j,:] = prf_st[0:nbins]\n",
    "    model = tmp_prof.flatten()\n",
    "    return model\n",
    "\n",
    "allprofs = data[0:nbands].flatten()\n",
    "allx = np.arange(len(allprofs))\n",
    "\n",
    "#get the bin of the peak of the highest freq band profile\n",
    "mbin = np.argmax(data[0,:])\n",
    "\n",
    "#initial guesses for the fit\n",
    "tau_ini = 30.\n",
    "spec_ini = 4.\n",
    "pp = [.1, mbin, 10., .1, mbin, 10., .1,mbin,10., .1,mbin,10.,.1,mbin,10., tau_ini, spec_ini]\n",
    "popt, pcov = curve_fit(gauss_exp_model_mod2,allx,allprofs,p0=pp,maxfev=100000,bounds=(0,1000))\n",
    "perr = np.sqrt(np.diag(pcov))\n",
    "\n",
    "tau = popt[len(popt)-2]*period/nbins\n",
    "tau_err = perr[len(popt)-2]*period/nbins\n",
    "\n",
    "print('\\n*****************\\n')\n",
    "print('Tau (ms) = ', tau, '+/-', tau_err, ' at Freq 1 GHz')\n",
    "spec = -1.*popt[len(popt)-1]\n",
    "spec_err = perr[len(popt)-1]\n",
    "\n",
    "\n",
    "print('Spec :', spec, '+/-', spec_err)\n",
    "print('\\n*****************\\n')\n"
   ]
  },
  {
   "cell_type": "markdown",
   "id": "afd5cba0",
   "metadata": {},
   "source": [
    "\n",
    "* Let's overplot the Gaussian fits with the observed pulse profiles!\n"
   ]
  },
  {
   "cell_type": "code",
   "execution_count": null,
   "id": "869bec99",
   "metadata": {},
   "outputs": [],
   "source": [
    "gg = gauss_exp_model_mod2(allx,*popt)\n",
    "profiles = np.resize(allprofs, (nbands,nbins))\n",
    "templates = np.resize(gg, (nbands,nbins))\n",
    "\n",
    "plt.figure(figsize=(5,8))\n",
    "\n",
    "for i in range(nbands):\n",
    "    plt.subplot(nbands,1,i+1)\n",
    "    if i == 0: plt.title(psr+'\\n'+ r'$\\alpha_{sc}$ = '+ str(np.round(-1*spec,1))+\n",
    "                         r'$\\pm$'+str(np.round(spec_err,1))+r'       $\\tau_{sc}$ = '+\n",
    "                         str(int(np.round(tau)))+r'$\\pm$'+str(int(np.round(tau_err)))+' ms', fontsize='large')        \n",
    "    if i < nbands-1:\n",
    "        plt.tick_params(direction='in',axis='both',length=3,top=True,right=True,labelbottom=False,labelsize='large')\n",
    "    else:\n",
    "        plt.tick_params(direction='in',axis='both',length=3,top=True,right=True,labelbottom=True,labelsize='large')\n",
    "        plt.xlabel('Pulse phase', fontsize='large')\n",
    "    plt.xlim(xmin,xmax)\n",
    "    plt.ylim(ymin, ymax)\n",
    "    fac = 1./np.amax(templates[i,:])\n",
    "    plt.plot(xbins/nbins,profiles[i,:]*fac,color='gray',linewidth=.5)\n",
    "    plt.plot(xbins/nbins,templates[i,:]*fac,color='k')\n",
    "    plt.text(1.02*xmin+0.04,ymax*.75, r'$\\nu$ ='+str(int(np.round(freq[i])))+' MHz',fontsize='large')\n",
    "    tauf = tau*((freq[i]/1000.0)**spec)\n",
    "    tauf_err = tau_err*((freq[i]/1000.0)**spec)\n",
    "    plt.text(1.02*xmin+0.04,ymax*.55,r'$\\tau$ = '+str(np.round(tauf,1))+r'$\\pm$'+\n",
    "             str(np.round(tauf_err,1))+' ms',fontsize='large')"
   ]
  }
 ],
 "metadata": {
  "kernelspec": {
   "display_name": "Python 3 (ipykernel)",
   "language": "python",
   "name": "python3"
  },
  "language_info": {
   "codemirror_mode": {
    "name": "ipython",
    "version": 3
   },
   "file_extension": ".py",
   "mimetype": "text/x-python",
   "name": "python",
   "nbconvert_exporter": "python",
   "pygments_lexer": "ipython3",
   "version": "3.9.6"
  }
 },
 "nbformat": 4,
 "nbformat_minor": 5
}
